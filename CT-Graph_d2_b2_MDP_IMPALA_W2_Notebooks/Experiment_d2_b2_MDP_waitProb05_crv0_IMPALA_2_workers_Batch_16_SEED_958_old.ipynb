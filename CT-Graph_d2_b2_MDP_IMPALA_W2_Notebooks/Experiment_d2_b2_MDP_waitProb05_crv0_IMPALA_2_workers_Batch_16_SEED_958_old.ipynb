{
 "cells": [
  {
   "cell_type": "code",
   "execution_count": null,
   "id": "3eb35da8-4670-44bd-8bd5-c934e1d98283",
   "metadata": {},
   "outputs": [],
   "source": [
    "import os"
   ]
  },
  {
   "cell_type": "code",
   "execution_count": null,
   "id": "69ee1af5-ff4b-4343-966c-fa8ab8ab70fe",
   "metadata": {},
   "outputs": [],
   "source": [
    "os.environ"
   ]
  },
  {
   "cell_type": "code",
   "execution_count": null,
   "id": "3e7ae87d-06fc-4ab7-994d-32eeb8a7b879",
   "metadata": {},
   "outputs": [],
   "source": [
    "migs= 'MIG-c3ce33ce-ced8-5961-bb87-2b40eb100277,MIG-280489c4-1d98-5b07-b4f6-2fc85fc874fa,MIG-c432df19-0894-5232-ac1c-9a3440fc267e,MIG-e8f61a95-352a-56cc-b95d-0c35fc14e8bf'"
   ]
  },
  {
   "cell_type": "code",
   "execution_count": null,
   "id": "44ad8724-9f7a-4aed-86ad-85cd7c576c5a",
   "metadata": {},
   "outputs": [],
   "source": [
    "env = dict(os.environ)"
   ]
  },
  {
   "cell_type": "code",
   "execution_count": null,
   "id": "864cbb81-726d-47f7-83ec-a47df00b95da",
   "metadata": {},
   "outputs": [],
   "source": [
    "env['CUDA_VISIBLE_DEVICES']=migs"
   ]
  },
  {
   "cell_type": "code",
   "execution_count": null,
   "id": "5c34ffce-4781-40fd-a9ac-eff59e4271dc",
   "metadata": {},
   "outputs": [],
   "source": [
    "os.environ = env"
   ]
  },
  {
   "cell_type": "code",
   "execution_count": null,
   "id": "fcce5e14-bad9-436b-ae05-65a4f2c478ca",
   "metadata": {},
   "outputs": [],
   "source": [
    "os.environ"
   ]
  },
  {
   "cell_type": "code",
   "execution_count": null,
   "id": "1c395110-6a5b-4162-9d75-7fe11bee2385",
   "metadata": {
    "tags": []
   },
   "outputs": [],
   "source": [
    "import os\n",
    "import ray\n",
    "\n",
    "# Set CUDA_VISIBLE_DEVICES to control which GPUs are visible to Ray\n",
    "#os.environ[\"CUDA_VISIBLE_DEVICES\"] = \"0,1,2,3,4,5,6\"#'MIG-c3ce33ce-ced8-5961-bb87-2b40eb100277,MIG-280489c4-1d98-5b07-b4f6-2fc85fc874fa,MIG-c432df19-0894-5232-ac1c-9a3440fc267e,MIG-e8f61a95-352a-56cc-b95d-0c35fc14e8bf'#\"0,1,2,3,4,5,6\"\n",
    "\n",
    "# Initialize Ray with the appropriate configuration\n",
    "ray.init()\n"
   ]
  },
  {
   "cell_type": "code",
   "execution_count": null,
   "id": "b80f44a6-e129-4e02-b394-ae99d0c8d8d4",
   "metadata": {
    "tags": []
   },
   "outputs": [],
   "source": [
    "resources = ray.cluster_resources()\n",
    "print(resources)\n"
   ]
  },
  {
   "cell_type": "code",
   "execution_count": null,
   "id": "939af842",
   "metadata": {
    "tags": []
   },
   "outputs": [],
   "source": [
    "import numpy as np\n",
    "import gymnasium as gym\n",
    "from gym_CTgraph import CTgraph_env\n",
    "from gym_CTgraph.CTgraph_plot import CTgraph_plot\n",
    "from gym_CTgraph.CTgraph_conf import CTgraph_conf\n",
    "from gym_CTgraph.CTgraph_images import CTgraph_images\n",
    "import json\n",
    "import argparse\n",
    "#import json\n",
    "import random\n",
    "import matplotlib.pyplot as plt\n",
    "import timeit\n",
    "\n",
    "from gym.spaces import Box, Discrete, Dict\n",
    "from ray.tune.registry import register_env\n",
    "from ray import tune\n",
    "\n",
    "from PIL import Image\n",
    "import matplotlib.pyplot as plt\n",
    "import matplotlib.image as mpimg\n",
    "\n",
    "import argparse\n",
    "#import gym\n",
    "from gym.spaces import Discrete, Box\n",
    "import numpy as np\n",
    "#import os\n",
    "import random\n",
    "\n",
    "import ray\n",
    "from ray import tune\n",
    "from ray.rllib.agents import ppo\n",
    "from ray.rllib.env.env_context import EnvContext\n",
    "from ray.rllib.models import ModelCatalog\n",
    "from ray.rllib.models.tf.tf_modelv2 import TFModelV2\n",
    "from ray.rllib.models.tf.fcnet import FullyConnectedNetwork\n",
    "from ray.rllib.models.torch.torch_modelv2 import TorchModelV2\n",
    "from ray.rllib.models.torch.fcnet import FullyConnectedNetwork as TorchFC\n",
    "from ray.rllib.utils.framework import try_import_tf, try_import_torch\n",
    "from ray.rllib.utils.test_utils import check_learning_achieved\n",
    "from ray.tune.logger import pretty_print"
   ]
  },
  {
   "cell_type": "code",
   "execution_count": null,
   "id": "51502519-f453-4da2-9311-c81f67f0d7c7",
   "metadata": {
    "tags": []
   },
   "outputs": [],
   "source": [
    "'''import ray\n",
    "ray.init()\n",
    "resources = ray.cluster_resources()\n",
    "print(resources)'''\n"
   ]
  },
  {
   "cell_type": "code",
   "execution_count": null,
   "id": "7a94b421",
   "metadata": {
    "tags": []
   },
   "outputs": [],
   "source": [
    "from ray import tune"
   ]
  },
  {
   "cell_type": "code",
   "execution_count": null,
   "id": "a3278362",
   "metadata": {
    "tags": []
   },
   "outputs": [],
   "source": [
    "def env_creator(env_config={}):\n",
    "    # fetch the parameters from the json file\n",
    "    configuration = CTgraph_conf(\"C:\\CT-Graph_Native\\CT-graph\\CT_Graph_Christos\\graph09.json\")\n",
    "    conf_data = configuration.getParameters()\n",
    "    # print configration data\n",
    "    print(json.dumps(conf_data, indent=3))\n",
    "    #env = gym.make('CTgraph-v0')\n",
    "    # instantiate the maze\n",
    "    #start = timeit.timeit()\n",
    "    #env = gym.make('CTgraph-v0')\n",
    "    #end = timeit.timeit()\n",
    "    #print(end - start)\n",
    "\n",
    "    imageDataset = CTgraph_images(conf_data)\n",
    "    env = gym.make('CTgraph-v0', conf_data=conf_data, images=imageDataset)\n",
    "    env.reset()\n",
    "\n",
    "    # get a random path from the maze\n",
    "    #high_reward_path = np.array(np.random.randint(1, conf_data['graph_shape']['branching_factor'], size=conf_data['graph_shape']['depth']))\n",
    "    # use this random path to set the path to the high reward. Note that the maze would have already a high_reward_path from the initialisation\n",
    "    #env.set_high_reward_path(high_reward_path)\n",
    "    #seed_everything(env)  \n",
    "    \n",
    "    return env"
   ]
  },
  {
   "cell_type": "code",
   "execution_count": null,
   "id": "31213ad4",
   "metadata": {
    "tags": []
   },
   "outputs": [],
   "source": [
    "register_env(\"CT-Graph_d2_b2_wp05_crv0_MDP\", env_creator)"
   ]
  },
  {
   "cell_type": "code",
   "execution_count": null,
   "id": "e3129fc7",
   "metadata": {
    "scrolled": true,
    "tags": []
   },
   "outputs": [],
   "source": [
    "tune.run(\"IMPALA\",\n",
    "             # algorithm specific configuration\n",
    "             config={\"env\": \"CT-Graph_d2_b2_wp05_crv0_MDP\",  #\n",
    "                     \"framework\": \"tf2\",\n",
    "                     \"seed\":958,\n",
    "                     #\"num_gpus\": 1,\n",
    "                     \"num_rollout_workers\": 2,\n",
    "                     \"num_envs_per_worker\": 1,\n",
    "                     \"num_gpus_per_worker\": 0,\n",
    "                     \"train_batch_size\": 512,\n",
    "                     #\"use_critic\":True,\n",
    "                     #\"use_gae\": True,\n",
    "                     #\"lambda\": 0.99,\n",
    "                     #\"sgd_minibatch_size\": 16,\n",
    "                     \"num_sgd_iter\": 8,\n",
    "                     \"shuffle_sequences\": False,\n",
    "                     \"entropy_coeff\": 0.00015,\n",
    "                     #\"clip_param\": 0.1,\n",
    "                     \"grad_clip\": 5,\n",
    "                     \"lr\": 0.00015,\n",
    "                     #\"num_cpus_per_worker\": 1,\n",
    "                     #\"model\": {\"custom_model\": \"pa_model\", },\n",
    "                     \"evaluation_interval\": 1,\n",
    "                     \"evaluation_num_episodes\": 2\n",
    "                     },\n",
    "             local_dir=\"CT-Graph_d2_b2_wp05_crv0_MDP06\",  # directory to save results\n",
    "             checkpoint_freq=2,  # frequency between checkpoints\n",
    "             keep_checkpoints_num=6,\n",
    "             stop={\"timesteps_total\": 1500000}\n",
    "             )\n"
   ]
  },
  {
   "cell_type": "code",
   "execution_count": null,
   "id": "64bee6a0-fbb5-4ff4-a955-c31597ed6ba9",
   "metadata": {},
   "outputs": [],
   "source": []
  },
  {
   "cell_type": "code",
   "execution_count": null,
   "id": "df30d831-431f-4987-8eb0-56015395793a",
   "metadata": {},
   "outputs": [],
   "source": []
  }
 ],
 "metadata": {
  "kernelspec": {
   "display_name": "Python 3 (ipykernel)",
   "language": "python",
   "name": "python3"
  },
  "language_info": {
   "codemirror_mode": {
    "name": "ipython",
    "version": 3
   },
   "file_extension": ".py",
   "mimetype": "text/x-python",
   "name": "python",
   "nbconvert_exporter": "python",
   "pygments_lexer": "ipython3",
   "version": "3.9.16"
  }
 },
 "nbformat": 4,
 "nbformat_minor": 5
}
