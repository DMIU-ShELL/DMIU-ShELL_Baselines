{
 "cells": [
  {
   "cell_type": "code",
   "execution_count": null,
   "id": "3eb35da8-4670-44bd-8bd5-c934e1d98283",
   "metadata": {},
   "outputs": [],
   "source": [
    "import os"
   ]
  },
  {
   "cell_type": "code",
   "execution_count": null,
   "id": "69ee1af5-ff4b-4343-966c-fa8ab8ab70fe",
   "metadata": {},
   "outputs": [],
   "source": [
    "os.environ"
   ]
  },
  {
   "cell_type": "code",
   "execution_count": null,
   "id": "3e7ae87d-06fc-4ab7-994d-32eeb8a7b879",
   "metadata": {},
   "outputs": [],
   "source": [
    "migs= 'MIG-c3ce33ce-ced8-5961-bb87-2b40eb100277,MIG-280489c4-1d98-5b07-b4f6-2fc85fc874fa,MIG-c432df19-0894-5232-ac1c-9a3440fc267e,MIG-e8f61a95-352a-56cc-b95d-0c35fc14e8bf'"
   ]
  },
  {
   "cell_type": "code",
   "execution_count": null,
   "id": "44ad8724-9f7a-4aed-86ad-85cd7c576c5a",
   "metadata": {},
   "outputs": [],
   "source": [
    "env = dict(os.environ)"
   ]
  },
  {
   "cell_type": "code",
   "execution_count": null,
   "id": "864cbb81-726d-47f7-83ec-a47df00b95da",
   "metadata": {},
   "outputs": [],
   "source": [
    "env['CUDA_VISIBLE_DEVICES']=migs"
   ]
  },
  {
   "cell_type": "code",
   "execution_count": null,
   "id": "5c34ffce-4781-40fd-a9ac-eff59e4271dc",
   "metadata": {},
   "outputs": [],
   "source": [
    "os.environ = env"
   ]
  },
  {
   "cell_type": "code",
   "execution_count": null,
   "id": "fcce5e14-bad9-436b-ae05-65a4f2c478ca",
   "metadata": {},
   "outputs": [],
   "source": [
    "os.environ"
   ]
  },
  {
   "cell_type": "code",
   "execution_count": 1,
   "id": "1c395110-6a5b-4162-9d75-7fe11bee2385",
   "metadata": {
    "tags": []
   },
   "outputs": [
    {
     "name": "stderr",
     "output_type": "stream",
     "text": [
      "2023-03-01 17:26:06,926\tINFO worker.py:1544 -- Started a local Ray instance. View the dashboard at \u001b[1m\u001b[32m127.0.0.1:8265 \u001b[39m\u001b[22m\n"
     ]
    },
    {
     "data": {
      "text/html": [
       "<div>\n",
       "    <div style=\"margin-left: 50px;display: flex;flex-direction: row;align-items: center\">\n",
       "        <h3 style=\"color: var(--jp-ui-font-color0)\">Ray</h3>\n",
       "        <svg version=\"1.1\" id=\"ray\" width=\"3em\" viewBox=\"0 0 144.5 144.6\" style=\"margin-left: 3em;margin-right: 3em\">\n",
       "            <g id=\"layer-1\">\n",
       "                <path fill=\"#00a2e9\" class=\"st0\" d=\"M97.3,77.2c-3.8-1.1-6.2,0.9-8.3,5.1c-3.5,6.8-9.9,9.9-17.4,9.6S58,88.1,54.8,81.2c-1.4-3-3-4-6.3-4.1\n",
       "                    c-5.6-0.1-9.9,0.1-13.1,6.4c-3.8,7.6-13.6,10.2-21.8,7.6C5.2,88.4-0.4,80.5,0,71.7c0.1-8.4,5.7-15.8,13.8-18.2\n",
       "                    c8.4-2.6,17.5,0.7,22.3,8c1.3,1.9,1.3,5.2,3.6,5.6c3.9,0.6,8,0.2,12,0.2c1.8,0,1.9-1.6,2.4-2.8c3.5-7.8,9.7-11.8,18-11.9\n",
       "                    c8.2-0.1,14.4,3.9,17.8,11.4c1.3,2.8,2.9,3.6,5.7,3.3c1-0.1,2,0.1,3,0c2.8-0.5,6.4,1.7,8.1-2.7s-2.3-5.5-4.1-7.5\n",
       "                    c-5.1-5.7-10.9-10.8-16.1-16.3C84,38,81.9,37.1,78,38.3C66.7,42,56.2,35.7,53,24.1C50.3,14,57.3,2.8,67.7,0.5\n",
       "                    C78.4-2,89,4.7,91.5,15.3c0.1,0.3,0.1,0.5,0.2,0.8c0.7,3.4,0.7,6.9-0.8,9.8c-1.7,3.2-0.8,5,1.5,7.2c6.7,6.5,13.3,13,19.8,19.7\n",
       "                    c1.8,1.8,3,2.1,5.5,1.2c9.1-3.4,17.9-0.6,23.4,7c4.8,6.9,4.6,16.1-0.4,22.9c-5.4,7.2-14.2,9.9-23.1,6.5c-2.3-0.9-3.5-0.6-5.1,1.1\n",
       "                    c-6.7,6.9-13.6,13.7-20.5,20.4c-1.8,1.8-2.5,3.2-1.4,5.9c3.5,8.7,0.3,18.6-7.7,23.6c-7.9,5-18.2,3.8-24.8-2.9\n",
       "                    c-6.4-6.4-7.4-16.2-2.5-24.3c4.9-7.8,14.5-11,23.1-7.8c3,1.1,4.7,0.5,6.9-1.7C91.7,98.4,98,92.3,104.2,86c1.6-1.6,4.1-2.7,2.6-6.2\n",
       "                    c-1.4-3.3-3.8-2.5-6.2-2.6C99.8,77.2,98.9,77.2,97.3,77.2z M72.1,29.7c5.5,0.1,9.9-4.3,10-9.8c0-0.1,0-0.2,0-0.3\n",
       "                    C81.8,14,77,9.8,71.5,10.2c-5,0.3-9,4.2-9.3,9.2c-0.2,5.5,4,10.1,9.5,10.3C71.8,29.7,72,29.7,72.1,29.7z M72.3,62.3\n",
       "                    c-5.4-0.1-9.9,4.2-10.1,9.7c0,0.2,0,0.3,0,0.5c0.2,5.4,4.5,9.7,9.9,10c5.1,0.1,9.9-4.7,10.1-9.8c0.2-5.5-4-10-9.5-10.3\n",
       "                    C72.6,62.3,72.4,62.3,72.3,62.3z M115,72.5c0.1,5.4,4.5,9.7,9.8,9.9c5.6-0.2,10-4.8,10-10.4c-0.2-5.4-4.6-9.7-10-9.7\n",
       "                    c-5.3-0.1-9.8,4.2-9.9,9.5C115,72.1,115,72.3,115,72.5z M19.5,62.3c-5.4,0.1-9.8,4.4-10,9.8c-0.1,5.1,5.2,10.4,10.2,10.3\n",
       "                    c5.6-0.2,10-4.9,9.8-10.5c-0.1-5.4-4.5-9.7-9.9-9.6C19.6,62.3,19.5,62.3,19.5,62.3z M71.8,134.6c5.9,0.2,10.3-3.9,10.4-9.6\n",
       "                    c0.5-5.5-3.6-10.4-9.1-10.8c-5.5-0.5-10.4,3.6-10.8,9.1c0,0.5,0,0.9,0,1.4c-0.2,5.3,4,9.8,9.3,10\n",
       "                    C71.6,134.6,71.7,134.6,71.8,134.6z\"/>\n",
       "            </g>\n",
       "        </svg>\n",
       "        <table>\n",
       "            <tr>\n",
       "                <td style=\"text-align: left\"><b>Python version:</b></td>\n",
       "                <td style=\"text-align: left\"><b>3.9.16</b></td>\n",
       "            </tr>\n",
       "            <tr>\n",
       "                <td style=\"text-align: left\"><b>Ray version:</b></td>\n",
       "                <td style=\"text-align: left\"><b> 2.3.0</b></td>\n",
       "            </tr>\n",
       "            <tr>\n",
       "    <td style=\"text-align: left\"><b>Dashboard:</b></td>\n",
       "    <td style=\"text-align: left\"><b><a href=\"http://127.0.0.1:8265\" target=\"_blank\">http://127.0.0.1:8265</a></b></td>\n",
       "</tr>\n",
       "\n",
       "        </table>\n",
       "    </div>\n",
       "</div>\n"
      ],
      "text/plain": [
       "RayContext(dashboard_url='127.0.0.1:8265', python_version='3.9.16', ray_version='2.3.0', ray_commit='cf7a56b4b0b648c324722df7c99c168e92ff0b45', address_info={'node_ip_address': '127.0.0.1', 'raylet_ip_address': '127.0.0.1', 'redis_address': None, 'object_store_address': 'tcp://127.0.0.1:60662', 'raylet_socket_name': 'tcp://127.0.0.1:58723', 'webui_url': '127.0.0.1:8265', 'session_dir': 'C:\\\\Users\\\\chper\\\\AppData\\\\Local\\\\Temp\\\\ray\\\\session_2023-03-01_17-26-04_445148_24336', 'metrics_export_port': 64916, 'gcs_address': '127.0.0.1:63537', 'address': '127.0.0.1:63537', 'dashboard_agent_listen_port': 52365, 'node_id': 'ac65491afa359080f36ed28b8eb97b67755ecf577ccb6668b30f8227'})"
      ]
     },
     "execution_count": 1,
     "metadata": {},
     "output_type": "execute_result"
    }
   ],
   "source": [
    "import os\n",
    "import ray\n",
    "\n",
    "# Set CUDA_VISIBLE_DEVICES to control which GPUs are visible to Ray\n",
    "#os.environ[\"CUDA_VISIBLE_DEVICES\"] = \"0,1,2,3,4,5,6\"#'MIG-c3ce33ce-ced8-5961-bb87-2b40eb100277,MIG-280489c4-1d98-5b07-b4f6-2fc85fc874fa,MIG-c432df19-0894-5232-ac1c-9a3440fc267e,MIG-e8f61a95-352a-56cc-b95d-0c35fc14e8bf'#\"0,1,2,3,4,5,6\"\n",
    "\n",
    "# Initialize Ray with the appropriate configuration\n",
    "ray.init()\n"
   ]
  },
  {
   "cell_type": "code",
   "execution_count": 2,
   "id": "b80f44a6-e129-4e02-b394-ae99d0c8d8d4",
   "metadata": {
    "tags": []
   },
   "outputs": [
    {
     "name": "stdout",
     "output_type": "stream",
     "text": [
      "{'object_store_memory': 17931243110.0, 'GPU': 1.0, 'CPU': 32.0, 'node:127.0.0.1': 1.0, 'memory': 35862486222.0}\n"
     ]
    }
   ],
   "source": [
    "resources = ray.cluster_resources()\n",
    "print(resources)\n"
   ]
  },
  {
   "cell_type": "code",
   "execution_count": 3,
   "id": "939af842",
   "metadata": {
    "tags": []
   },
   "outputs": [
    {
     "name": "stdout",
     "output_type": "stream",
     "text": [
      "WARNING:tensorflow:From C:\\Users\\chper\\anaconda3\\envs\\rllib20c\\lib\\site-packages\\tensorflow\\python\\util\\deprecation.py:561: calling function (from tensorflow.python.eager.def_function) with experimental_relax_shapes is deprecated and will be removed in a future version.\n",
      "Instructions for updating:\n",
      "experimental_relax_shapes is deprecated, use reduce_retracing instead\n"
     ]
    }
   ],
   "source": [
    "import numpy as np\n",
    "import gymnasium as gym\n",
    "from gym_CTgraph import CTgraph_env\n",
    "from gym_CTgraph.CTgraph_plot import CTgraph_plot\n",
    "from gym_CTgraph.CTgraph_conf import CTgraph_conf\n",
    "from gym_CTgraph.CTgraph_images import CTgraph_images\n",
    "import json\n",
    "import argparse\n",
    "#import json\n",
    "import random\n",
    "import matplotlib.pyplot as plt\n",
    "import timeit\n",
    "\n",
    "from gym.spaces import Box, Discrete, Dict\n",
    "from ray.tune.registry import register_env\n",
    "from ray import tune\n",
    "\n",
    "from PIL import Image\n",
    "import matplotlib.pyplot as plt\n",
    "import matplotlib.image as mpimg\n",
    "\n",
    "import argparse\n",
    "#import gym\n",
    "from gym.spaces import Discrete, Box\n",
    "import numpy as np\n",
    "#import os\n",
    "import random\n",
    "\n",
    "import ray\n",
    "from ray import tune\n",
    "from ray.rllib.agents import ppo\n",
    "from ray.rllib.env.env_context import EnvContext\n",
    "from ray.rllib.models import ModelCatalog\n",
    "from ray.rllib.models.tf.tf_modelv2 import TFModelV2\n",
    "from ray.rllib.models.tf.fcnet import FullyConnectedNetwork\n",
    "from ray.rllib.models.torch.torch_modelv2 import TorchModelV2\n",
    "from ray.rllib.models.torch.fcnet import FullyConnectedNetwork as TorchFC\n",
    "from ray.rllib.utils.framework import try_import_tf, try_import_torch\n",
    "from ray.rllib.utils.test_utils import check_learning_achieved\n",
    "from ray.tune.logger import pretty_print"
   ]
  },
  {
   "cell_type": "code",
   "execution_count": 4,
   "id": "51502519-f453-4da2-9311-c81f67f0d7c7",
   "metadata": {
    "tags": []
   },
   "outputs": [
    {
     "data": {
      "text/plain": [
       "'import ray\\nray.init()\\nresources = ray.cluster_resources()\\nprint(resources)'"
      ]
     },
     "execution_count": 4,
     "metadata": {},
     "output_type": "execute_result"
    }
   ],
   "source": [
    "'''import ray\n",
    "ray.init()\n",
    "resources = ray.cluster_resources()\n",
    "print(resources)'''\n"
   ]
  },
  {
   "cell_type": "code",
   "execution_count": 5,
   "id": "7a94b421",
   "metadata": {
    "tags": []
   },
   "outputs": [],
   "source": [
    "from ray import tune"
   ]
  },
  {
   "cell_type": "code",
   "execution_count": 6,
   "id": "a3278362",
   "metadata": {
    "tags": []
   },
   "outputs": [],
   "source": [
    "def env_creator(env_config={}):\n",
    "    # fetch the parameters from the json file\n",
    "    configuration = CTgraph_conf(\"C:\\DL2C_Baselines\\DMIU-ShELL_Baselines-main\\graph09.json\")\n",
    "    conf_data = configuration.getParameters()\n",
    "    # print configration data\n",
    "    print(json.dumps(conf_data, indent=3))\n",
    "    #env = gym.make('CTgraph-v0')\n",
    "    # instantiate the maze\n",
    "    #start = timeit.timeit()\n",
    "    #env = gym.make('CTgraph-v0')\n",
    "    #end = timeit.timeit()\n",
    "    #print(end - start)\n",
    "\n",
    "    imageDataset = CTgraph_images(conf_data)\n",
    "    env = gym.make('CTgraph-v0', conf_data=conf_data, images=imageDataset)\n",
    "    env.reset()\n",
    "\n",
    "    # get a random path from the maze\n",
    "    #high_reward_path = np.array(np.random.randint(1, conf_data['graph_shape']['branching_factor'], size=conf_data['graph_shape']['depth']))\n",
    "    # use this random path to set the path to the high reward. Note that the maze would have already a high_reward_path from the initialisation\n",
    "    #env.set_high_reward_path(high_reward_path)\n",
    "    #seed_everything(env)  \n",
    "    \n",
    "    return env"
   ]
  },
  {
   "cell_type": "code",
   "execution_count": 7,
   "id": "31213ad4",
   "metadata": {
    "tags": []
   },
   "outputs": [],
   "source": [
    "register_env(\"CT-Graph_d2_b2_wp05_crv0_MDP\", env_creator)"
   ]
  },
  {
   "cell_type": "code",
   "execution_count": 9,
   "id": "e3129fc7",
   "metadata": {
    "scrolled": true,
    "tags": []
   },
   "outputs": [
    {
     "data": {
      "text/html": [
       "<div class=\"tuneStatus\">\n",
       "  <div style=\"display: flex;flex-direction: row\">\n",
       "    <div style=\"display: flex;flex-direction: column;\">\n",
       "      <h3>Tune Status</h3>\n",
       "      <table>\n",
       "<tbody>\n",
       "<tr><td>Current time:</td><td>2023-03-01 18:03:40</td></tr>\n",
       "<tr><td>Running for: </td><td>00:36:03.95        </td></tr>\n",
       "<tr><td>Memory:      </td><td>12.5/63.9 GiB      </td></tr>\n",
       "</tbody>\n",
       "</table>\n",
       "    </div>\n",
       "    <div class=\"vDivider\"></div>\n",
       "    <div class=\"systemInfo\">\n",
       "      <h3>System Info</h3>\n",
       "      Using FIFO scheduling algorithm.<br>Resources requested: 0/32 CPUs, 0/1 GPUs, 0.0/33.4 GiB heap, 0.0/16.7 GiB objects\n",
       "    </div>\n",
       "    \n",
       "  </div>\n",
       "  <div class=\"hDivider\"></div>\n",
       "  <div class=\"trialStatus\">\n",
       "    <h3>Trial Status</h3>\n",
       "    <table>\n",
       "<thead>\n",
       "<tr><th>Trial name                                     </th><th>status    </th><th>loc            </th><th style=\"text-align: right;\">  iter</th><th style=\"text-align: right;\">  total time (s)</th><th style=\"text-align: right;\">     ts</th><th style=\"text-align: right;\">  reward</th><th style=\"text-align: right;\">  episode_reward_max</th><th style=\"text-align: right;\">  episode_reward_min</th><th style=\"text-align: right;\">  episode_len_mean</th></tr>\n",
       "</thead>\n",
       "<tbody>\n",
       "<tr><td>IMPALA_CT-Graph_d2_b2_wp05_crv0_MDP_9891f_00000</td><td>TERMINATED</td><td>127.0.0.1:11780</td><td style=\"text-align: right;\">   208</td><td style=\"text-align: right;\">         2128.64</td><td style=\"text-align: right;\">1501750</td><td style=\"text-align: right;\"> 0.50559</td><td style=\"text-align: right;\">                   1</td><td style=\"text-align: right;\">                   0</td><td style=\"text-align: right;\">           9.93913</td></tr>\n",
       "</tbody>\n",
       "</table>\n",
       "  </div>\n",
       "</div>\n",
       "<style>\n",
       ".tuneStatus {\n",
       "  color: var(--jp-ui-font-color1);\n",
       "}\n",
       ".tuneStatus .systemInfo {\n",
       "  display: flex;\n",
       "  flex-direction: column;\n",
       "}\n",
       ".tuneStatus td {\n",
       "  white-space: nowrap;\n",
       "}\n",
       ".tuneStatus .trialStatus {\n",
       "  display: flex;\n",
       "  flex-direction: column;\n",
       "}\n",
       ".tuneStatus h3 {\n",
       "  font-weight: bold;\n",
       "}\n",
       ".tuneStatus .hDivider {\n",
       "  border-bottom-width: var(--jp-border-width);\n",
       "  border-bottom-color: var(--jp-border-color0);\n",
       "  border-bottom-style: solid;\n",
       "}\n",
       ".tuneStatus .vDivider {\n",
       "  border-left-width: var(--jp-border-width);\n",
       "  border-left-color: var(--jp-border-color0);\n",
       "  border-left-style: solid;\n",
       "  margin: 0.5em 1em 0.5em 1em;\n",
       "}\n",
       "</style>\n"
      ],
      "text/plain": [
       "<IPython.core.display.HTML object>"
      ]
     },
     "metadata": {},
     "output_type": "display_data"
    },
    {
     "name": "stderr",
     "output_type": "stream",
     "text": [
      "2023-03-01 17:27:37,038\tWARNING deprecation.py:50 -- DeprecationWarning: `AlgorithmConfig.evaluation(evaluation_num_episodes=..)` has been deprecated. Use `AlgorithmConfig.evaluation(evaluation_duration=.., evaluation_duration_unit='episodes')` instead. This will raise an error in the future!\n",
      "\u001b[2m\u001b[36m(pid=11780)\u001b[0m WARNING:tensorflow:From C:\\Users\\chper\\anaconda3\\envs\\rllib20c\\lib\\site-packages\\tensorflow\\python\\util\\deprecation.py:561: calling function (from tensorflow.python.eager.def_function) with experimental_relax_shapes is deprecated and will be removed in a future version.\n",
      "\u001b[2m\u001b[36m(pid=11780)\u001b[0m Instructions for updating:\n",
      "\u001b[2m\u001b[36m(pid=11780)\u001b[0m experimental_relax_shapes is deprecated, use reduce_retracing instead\n",
      "\u001b[2m\u001b[36m(Impala pid=11780)\u001b[0m 2023-03-01 17:27:43,596\tWARNING algorithm_config.py:596 -- Cannot create ImpalaConfig from given `config_dict`! Property shuffle_sequences not supported.\n",
      "\u001b[2m\u001b[36m(Impala pid=11780)\u001b[0m 2023-03-01 17:27:43,596\tWARNING deprecation.py:50 -- DeprecationWarning: `AlgorithmConfig.evaluation(evaluation_num_episodes=..)` has been deprecated. Use `AlgorithmConfig.evaluation(evaluation_duration=.., evaluation_duration_unit='episodes')` instead. This will raise an error in the future!\n",
      "\u001b[2m\u001b[36m(Impala pid=11780)\u001b[0m 2023-03-01 17:27:43,980\tINFO algorithm.py:506 -- Current log_level is WARN. For more information, set 'log_level': 'INFO' / 'DEBUG' or use the -v and -vv flags.\n",
      "\u001b[2m\u001b[36m(pid=17256)\u001b[0m WARNING:tensorflow:From C:\\Users\\chper\\anaconda3\\envs\\rllib20c\\lib\\site-packages\\tensorflow\\python\\util\\deprecation.py:561: calling function (from tensorflow.python.eager.def_function) with experimental_relax_shapes is deprecated and will be removed in a future version.\n",
      "\u001b[2m\u001b[36m(pid=17256)\u001b[0m Instructions for updating:\n",
      "\u001b[2m\u001b[36m(pid=17256)\u001b[0m experimental_relax_shapes is deprecated, use reduce_retracing instead\n",
      "\u001b[2m\u001b[36m(pid=1928)\u001b[0m WARNING:tensorflow:From C:\\Users\\chper\\anaconda3\\envs\\rllib20c\\lib\\site-packages\\tensorflow\\python\\util\\deprecation.py:561: calling function (from tensorflow.python.eager.def_function) with experimental_relax_shapes is deprecated and will be removed in a future version.\n",
      "\u001b[2m\u001b[36m(pid=1928)\u001b[0m Instructions for updating:\n",
      "\u001b[2m\u001b[36m(pid=1928)\u001b[0m experimental_relax_shapes is deprecated, use reduce_retracing instead\n"
     ]
    },
    {
     "name": "stdout",
     "output_type": "stream",
     "text": [
      "\u001b[2m\u001b[36m(RolloutWorker pid=17256)\u001b[0m ---------------------------------------------------\n",
      "\u001b[2m\u001b[36m(RolloutWorker pid=17256)\u001b[0m              The CT-graph environments             \n",
      "\u001b[2m\u001b[36m(RolloutWorker pid=17256)\u001b[0m ---------------------------------------------------\n",
      "\u001b[2m\u001b[36m(RolloutWorker pid=17256)\u001b[0m Reading configuration parameters from  C:\\DL2C_Baselines\\DMIU-ShELL_Baselines-main\\graph09.json\n",
      "\u001b[2m\u001b[36m(RolloutWorker pid=17256)\u001b[0m {\n",
      "\u001b[2m\u001b[36m(RolloutWorker pid=17256)\u001b[0m    \"general_seed\": 3,\n",
      "\u001b[2m\u001b[36m(RolloutWorker pid=17256)\u001b[0m    \"graph_shape\": {\n",
      "\u001b[2m\u001b[36m(RolloutWorker pid=17256)\u001b[0m       \"depth\": 2,\n",
      "\u001b[2m\u001b[36m(RolloutWorker pid=17256)\u001b[0m       \"branching_factor\": 2,\n",
      "\u001b[2m\u001b[36m(RolloutWorker pid=17256)\u001b[0m       \"wait_prob\": 0.5\n",
      "\u001b[2m\u001b[36m(RolloutWorker pid=17256)\u001b[0m    },\n",
      "\u001b[2m\u001b[36m(RolloutWorker pid=17256)\u001b[0m    \"reward\": {\n",
      "\u001b[2m\u001b[36m(RolloutWorker pid=17256)\u001b[0m       \"high_reward_value\": 1.0,\n",
      "\u001b[2m\u001b[36m(RolloutWorker pid=17256)\u001b[0m       \"crash_reward_value\": 0.0,\n",
      "\u001b[2m\u001b[36m(RolloutWorker pid=17256)\u001b[0m       \"stochastic_sampling\": false,\n",
      "\u001b[2m\u001b[36m(RolloutWorker pid=17256)\u001b[0m       \"reward_std\": 0.1,\n",
      "\u001b[2m\u001b[36m(RolloutWorker pid=17256)\u001b[0m       \"min_static_reward_episodes\": 5000,\n",
      "\u001b[2m\u001b[36m(RolloutWorker pid=17256)\u001b[0m       \"max_static_reward_episodes\": 5001,\n",
      "\u001b[2m\u001b[36m(RolloutWorker pid=17256)\u001b[0m       \"reward_distribution\": \"needle_in_haystack\"\n",
      "\u001b[2m\u001b[36m(RolloutWorker pid=17256)\u001b[0m    },\n",
      "\u001b[2m\u001b[36m(RolloutWorker pid=17256)\u001b[0m    \"observations\": {\n",
      "\u001b[2m\u001b[36m(RolloutWorker pid=17256)\u001b[0m       \"MDP_decision_s\": true,\n",
      "\u001b[2m\u001b[36m(RolloutWorker pid=17256)\u001b[0m       \"MDP_wait_s\": true,\n",
      "\u001b[2m\u001b[36m(RolloutWorker pid=17256)\u001b[0m       \"wait_states\": [\n",
      "\u001b[2m\u001b[36m(RolloutWorker pid=17256)\u001b[0m          2,\n",
      "\u001b[2m\u001b[36m(RolloutWorker pid=17256)\u001b[0m          8\n",
      "\u001b[2m\u001b[36m(RolloutWorker pid=17256)\u001b[0m       ],\n",
      "\u001b[2m\u001b[36m(RolloutWorker pid=17256)\u001b[0m       \"decision_states\": [\n",
      "\u001b[2m\u001b[36m(RolloutWorker pid=17256)\u001b[0m          9,\n",
      "\u001b[2m\u001b[36m(RolloutWorker pid=17256)\u001b[0m          11\n",
      "\u001b[2m\u001b[36m(RolloutWorker pid=17256)\u001b[0m       ],\n",
      "\u001b[2m\u001b[36m(RolloutWorker pid=17256)\u001b[0m       \"graph_ends\": [\n",
      "\u001b[2m\u001b[36m(RolloutWorker pid=17256)\u001b[0m          12,\n",
      "\u001b[2m\u001b[36m(RolloutWorker pid=17256)\u001b[0m          15\n",
      "\u001b[2m\u001b[36m(RolloutWorker pid=17256)\u001b[0m       ]\n",
      "\u001b[2m\u001b[36m(RolloutWorker pid=17256)\u001b[0m    },\n",
      "\u001b[2m\u001b[36m(RolloutWorker pid=17256)\u001b[0m    \"image_dataset\": {\n",
      "\u001b[2m\u001b[36m(RolloutWorker pid=17256)\u001b[0m       \"seed\": 1,\n",
      "\u001b[2m\u001b[36m(RolloutWorker pid=17256)\u001b[0m       \"1D\": false,\n",
      "\u001b[2m\u001b[36m(RolloutWorker pid=17256)\u001b[0m       \"nr_of_images\": 16,\n",
      "\u001b[2m\u001b[36m(RolloutWorker pid=17256)\u001b[0m       \"noise_on_images_on_read\": 0,\n",
      "\u001b[2m\u001b[36m(RolloutWorker pid=17256)\u001b[0m       \"small_rotation_on_read\": 1\n",
      "\u001b[2m\u001b[36m(RolloutWorker pid=17256)\u001b[0m    }\n",
      "\u001b[2m\u001b[36m(RolloutWorker pid=17256)\u001b[0m }\n",
      "\u001b[2m\u001b[36m(RolloutWorker pid=17256)\u001b[0m ---------------------------------------------------\n",
      "\u001b[2m\u001b[36m(RolloutWorker pid=17256)\u001b[0m              The CT-graph environments             \n",
      "\u001b[2m\u001b[36m(RolloutWorker pid=17256)\u001b[0m ---------------------------------------------------\n",
      "\u001b[2m\u001b[36m(RolloutWorker pid=17256)\u001b[0m ---------------------------------------------------\n",
      "\u001b[2m\u001b[36m(RolloutWorker pid=17256)\u001b[0m This instance of CT-graph has\n",
      "\u001b[2m\u001b[36m(RolloutWorker pid=17256)\u001b[0m - 2 sequential decision state(s)\n",
      "\u001b[2m\u001b[36m(RolloutWorker pid=17256)\u001b[0m - 3 sequential wait states\n",
      "\u001b[2m\u001b[36m(RolloutWorker pid=17256)\u001b[0m - 4 leaf nodes (ends)\n",
      "\u001b[2m\u001b[36m(RolloutWorker pid=17256)\u001b[0m - 16 total states\n",
      "\u001b[2m\u001b[36m(RolloutWorker pid=17256)\u001b[0m - 7 total wait states\n",
      "\u001b[2m\u001b[36m(RolloutWorker pid=17256)\u001b[0m - 3 total decision points\n",
      "\u001b[2m\u001b[36m(RolloutWorker pid=17256)\u001b[0m ---------------------------------------------------\n",
      "\u001b[2m\u001b[36m(RolloutWorker pid=1928)\u001b[0m ---------------------------------------------------\n",
      "\u001b[2m\u001b[36m(RolloutWorker pid=1928)\u001b[0m              The CT-graph environments             \n",
      "\u001b[2m\u001b[36m(RolloutWorker pid=1928)\u001b[0m ---------------------------------------------------\n",
      "\u001b[2m\u001b[36m(RolloutWorker pid=1928)\u001b[0m Reading configuration parameters from  C:\\DL2C_Baselines\\DMIU-ShELL_Baselines-main\\graph09.json\n",
      "\u001b[2m\u001b[36m(RolloutWorker pid=1928)\u001b[0m {\n",
      "\u001b[2m\u001b[36m(RolloutWorker pid=1928)\u001b[0m    \"general_seed\": 3,\n",
      "\u001b[2m\u001b[36m(RolloutWorker pid=1928)\u001b[0m    \"graph_shape\": {\n",
      "\u001b[2m\u001b[36m(RolloutWorker pid=1928)\u001b[0m       \"depth\": 2,\n",
      "\u001b[2m\u001b[36m(RolloutWorker pid=1928)\u001b[0m       \"branching_factor\": 2,\n",
      "\u001b[2m\u001b[36m(RolloutWorker pid=1928)\u001b[0m       \"wait_prob\": 0.5\n",
      "\u001b[2m\u001b[36m(RolloutWorker pid=1928)\u001b[0m    },\n",
      "\u001b[2m\u001b[36m(RolloutWorker pid=1928)\u001b[0m    \"reward\": {\n",
      "\u001b[2m\u001b[36m(RolloutWorker pid=1928)\u001b[0m       \"high_reward_value\": 1.0,\n",
      "\u001b[2m\u001b[36m(RolloutWorker pid=1928)\u001b[0m       \"crash_reward_value\": 0.0,\n",
      "\u001b[2m\u001b[36m(RolloutWorker pid=1928)\u001b[0m       \"stochastic_sampling\": false,\n",
      "\u001b[2m\u001b[36m(RolloutWorker pid=1928)\u001b[0m       \"reward_std\": 0.1,\n",
      "\u001b[2m\u001b[36m(RolloutWorker pid=1928)\u001b[0m       \"min_static_reward_episodes\": 5000,\n",
      "\u001b[2m\u001b[36m(RolloutWorker pid=1928)\u001b[0m       \"max_static_reward_episodes\": 5001,\n",
      "\u001b[2m\u001b[36m(RolloutWorker pid=1928)\u001b[0m       \"reward_distribution\": \"needle_in_haystack\"\n",
      "\u001b[2m\u001b[36m(RolloutWorker pid=1928)\u001b[0m    },\n",
      "\u001b[2m\u001b[36m(RolloutWorker pid=1928)\u001b[0m    \"observations\": {\n",
      "\u001b[2m\u001b[36m(RolloutWorker pid=1928)\u001b[0m       \"MDP_decision_s\": true,\n",
      "\u001b[2m\u001b[36m(RolloutWorker pid=1928)\u001b[0m       \"MDP_wait_s\": true,\n",
      "\u001b[2m\u001b[36m(RolloutWorker pid=1928)\u001b[0m       \"wait_states\": [\n",
      "\u001b[2m\u001b[36m(RolloutWorker pid=1928)\u001b[0m          2,\n",
      "\u001b[2m\u001b[36m(RolloutWorker pid=1928)\u001b[0m          8\n",
      "\u001b[2m\u001b[36m(RolloutWorker pid=1928)\u001b[0m       ],\n",
      "\u001b[2m\u001b[36m(RolloutWorker pid=1928)\u001b[0m       \"decision_states\": [\n",
      "\u001b[2m\u001b[36m(RolloutWorker pid=1928)\u001b[0m          9,\n",
      "\u001b[2m\u001b[36m(RolloutWorker pid=1928)\u001b[0m          11\n",
      "\u001b[2m\u001b[36m(RolloutWorker pid=1928)\u001b[0m       ],\n",
      "\u001b[2m\u001b[36m(RolloutWorker pid=1928)\u001b[0m       \"graph_ends\": [\n",
      "\u001b[2m\u001b[36m(RolloutWorker pid=1928)\u001b[0m          12,\n",
      "\u001b[2m\u001b[36m(RolloutWorker pid=1928)\u001b[0m          15\n",
      "\u001b[2m\u001b[36m(RolloutWorker pid=1928)\u001b[0m       ]\n",
      "\u001b[2m\u001b[36m(RolloutWorker pid=1928)\u001b[0m    },\n",
      "\u001b[2m\u001b[36m(RolloutWorker pid=1928)\u001b[0m    \"image_dataset\": {\n",
      "\u001b[2m\u001b[36m(RolloutWorker pid=1928)\u001b[0m       \"seed\": 1,\n",
      "\u001b[2m\u001b[36m(RolloutWorker pid=1928)\u001b[0m       \"1D\": false,\n",
      "\u001b[2m\u001b[36m(RolloutWorker pid=1928)\u001b[0m       \"nr_of_images\": 16,\n",
      "\u001b[2m\u001b[36m(RolloutWorker pid=1928)\u001b[0m       \"noise_on_images_on_read\": 0,\n",
      "\u001b[2m\u001b[36m(RolloutWorker pid=1928)\u001b[0m       \"small_rotation_on_read\": 1\n",
      "\u001b[2m\u001b[36m(RolloutWorker pid=1928)\u001b[0m    }\n",
      "\u001b[2m\u001b[36m(RolloutWorker pid=1928)\u001b[0m }\n",
      "\u001b[2m\u001b[36m(RolloutWorker pid=1928)\u001b[0m ---------------------------------------------------\n",
      "\u001b[2m\u001b[36m(RolloutWorker pid=1928)\u001b[0m              The CT-graph environments             \n",
      "\u001b[2m\u001b[36m(RolloutWorker pid=1928)\u001b[0m ---------------------------------------------------\n",
      "\u001b[2m\u001b[36m(RolloutWorker pid=1928)\u001b[0m ---------------------------------------------------\n",
      "\u001b[2m\u001b[36m(RolloutWorker pid=1928)\u001b[0m This instance of CT-graph has\n",
      "\u001b[2m\u001b[36m(RolloutWorker pid=1928)\u001b[0m - 2 sequential decision state(s)\n",
      "\u001b[2m\u001b[36m(RolloutWorker pid=1928)\u001b[0m - 3 sequential wait states\n",
      "\u001b[2m\u001b[36m(RolloutWorker pid=1928)\u001b[0m - 4 leaf nodes (ends)\n",
      "\u001b[2m\u001b[36m(RolloutWorker pid=1928)\u001b[0m - 16 total states\n",
      "\u001b[2m\u001b[36m(RolloutWorker pid=1928)\u001b[0m - 7 total wait states\n",
      "\u001b[2m\u001b[36m(RolloutWorker pid=1928)\u001b[0m - 3 total decision points\n",
      "\u001b[2m\u001b[36m(RolloutWorker pid=1928)\u001b[0m ---------------------------------------------------\n"
     ]
    },
    {
     "name": "stderr",
     "output_type": "stream",
     "text": [
      "\u001b[2m\u001b[36m(RolloutWorker pid=17256)\u001b[0m C:\\Users\\chper\\anaconda3\\envs\\rllib20c\\lib\\site-packages\\gymnasium\\utils\\passive_env_checker.py:31: UserWarning: \u001b[33mWARN: A Box observation space has an unconventional shape (neither an image, nor a 1D vector). We recommend flattening the observation to have only a 1D vector or use a custom policy to properly process the data. Actual observation shape: (12, 12)\u001b[0m\n",
      "\u001b[2m\u001b[36m(RolloutWorker pid=17256)\u001b[0m   logger.warn(\n",
      "\u001b[2m\u001b[36m(RolloutWorker pid=17256)\u001b[0m 2023-03-01 17:27:51,336\tWARNING env.py:166 -- Your env reset() method appears to take 'seed' or 'return_info' arguments. Note that these are not yet supported in RLlib. Seeding will take place using 'env.seed()' and the info dict will not be returned from reset.\n",
      "\u001b[2m\u001b[36m(RolloutWorker pid=1928)\u001b[0m C:\\Users\\chper\\anaconda3\\envs\\rllib20c\\lib\\site-packages\\gymnasium\\utils\\passive_env_checker.py:31: UserWarning: \u001b[33mWARN: A Box observation space has an unconventional shape (neither an image, nor a 1D vector). We recommend flattening the observation to have only a 1D vector or use a custom policy to properly process the data. Actual observation shape: (12, 12)\u001b[0m\n",
      "\u001b[2m\u001b[36m(RolloutWorker pid=1928)\u001b[0m   logger.warn(\n",
      "\u001b[2m\u001b[36m(Impala pid=11780)\u001b[0m C:\\Users\\chper\\anaconda3\\envs\\rllib20c\\lib\\site-packages\\gymnasium\\utils\\passive_env_checker.py:31: UserWarning: \u001b[33mWARN: A Box observation space has an unconventional shape (neither an image, nor a 1D vector). We recommend flattening the observation to have only a 1D vector or use a custom policy to properly process the data. Actual observation shape: (12, 12)\u001b[0m\n",
      "\u001b[2m\u001b[36m(Impala pid=11780)\u001b[0m   logger.warn(\n",
      "\u001b[2m\u001b[36m(Impala pid=11780)\u001b[0m 2023-03-01 17:27:51,426\tWARNING env.py:166 -- Your env reset() method appears to take 'seed' or 'return_info' arguments. Note that these are not yet supported in RLlib. Seeding will take place using 'env.seed()' and the info dict will not be returned from reset.\n",
      "\u001b[2m\u001b[36m(Impala pid=11780)\u001b[0m 2023-03-01 17:27:51,442\tWARNING util.py:67 -- Install gputil for GPU system monitoring.\n"
     ]
    },
    {
     "name": "stdout",
     "output_type": "stream",
     "text": [
      "\u001b[2m\u001b[36m(Impala pid=11780)\u001b[0m ---------------------------------------------------\n",
      "\u001b[2m\u001b[36m(Impala pid=11780)\u001b[0m              The CT-graph environments             \n",
      "\u001b[2m\u001b[36m(Impala pid=11780)\u001b[0m ---------------------------------------------------\n",
      "\u001b[2m\u001b[36m(Impala pid=11780)\u001b[0m Reading configuration parameters from  C:\\DL2C_Baselines\\DMIU-ShELL_Baselines-main\\graph09.json\n",
      "\u001b[2m\u001b[36m(Impala pid=11780)\u001b[0m {\n",
      "\u001b[2m\u001b[36m(Impala pid=11780)\u001b[0m    \"general_seed\": 3,\n",
      "\u001b[2m\u001b[36m(Impala pid=11780)\u001b[0m    \"graph_shape\": {\n",
      "\u001b[2m\u001b[36m(Impala pid=11780)\u001b[0m       \"depth\": 2,\n",
      "\u001b[2m\u001b[36m(Impala pid=11780)\u001b[0m       \"branching_factor\": 2,\n",
      "\u001b[2m\u001b[36m(Impala pid=11780)\u001b[0m       \"wait_prob\": 0.5\n",
      "\u001b[2m\u001b[36m(Impala pid=11780)\u001b[0m    },\n",
      "\u001b[2m\u001b[36m(Impala pid=11780)\u001b[0m    \"reward\": {\n",
      "\u001b[2m\u001b[36m(Impala pid=11780)\u001b[0m       \"high_reward_value\": 1.0,\n",
      "\u001b[2m\u001b[36m(Impala pid=11780)\u001b[0m       \"crash_reward_value\": 0.0,\n",
      "\u001b[2m\u001b[36m(Impala pid=11780)\u001b[0m       \"stochastic_sampling\": false,\n",
      "\u001b[2m\u001b[36m(Impala pid=11780)\u001b[0m       \"reward_std\": 0.1,\n",
      "\u001b[2m\u001b[36m(Impala pid=11780)\u001b[0m       \"min_static_reward_episodes\": 5000,\n",
      "\u001b[2m\u001b[36m(Impala pid=11780)\u001b[0m       \"max_static_reward_episodes\": 5001,\n",
      "\u001b[2m\u001b[36m(Impala pid=11780)\u001b[0m       \"reward_distribution\": \"needle_in_haystack\"\n",
      "\u001b[2m\u001b[36m(Impala pid=11780)\u001b[0m    },\n",
      "\u001b[2m\u001b[36m(Impala pid=11780)\u001b[0m    \"observations\": {\n",
      "\u001b[2m\u001b[36m(Impala pid=11780)\u001b[0m       \"MDP_decision_s\": true,\n",
      "\u001b[2m\u001b[36m(Impala pid=11780)\u001b[0m       \"MDP_wait_s\": true,\n",
      "\u001b[2m\u001b[36m(Impala pid=11780)\u001b[0m       \"wait_states\": [\n",
      "\u001b[2m\u001b[36m(Impala pid=11780)\u001b[0m          2,\n",
      "\u001b[2m\u001b[36m(Impala pid=11780)\u001b[0m          8\n",
      "\u001b[2m\u001b[36m(Impala pid=11780)\u001b[0m       ],\n",
      "\u001b[2m\u001b[36m(Impala pid=11780)\u001b[0m       \"decision_states\": [\n",
      "\u001b[2m\u001b[36m(Impala pid=11780)\u001b[0m          9,\n",
      "\u001b[2m\u001b[36m(Impala pid=11780)\u001b[0m          11\n",
      "\u001b[2m\u001b[36m(Impala pid=11780)\u001b[0m       ],\n",
      "\u001b[2m\u001b[36m(Impala pid=11780)\u001b[0m       \"graph_ends\": [\n",
      "\u001b[2m\u001b[36m(Impala pid=11780)\u001b[0m          12,\n",
      "\u001b[2m\u001b[36m(Impala pid=11780)\u001b[0m          15\n",
      "\u001b[2m\u001b[36m(Impala pid=11780)\u001b[0m       ]\n",
      "\u001b[2m\u001b[36m(Impala pid=11780)\u001b[0m    },\n",
      "\u001b[2m\u001b[36m(Impala pid=11780)\u001b[0m    \"image_dataset\": {\n",
      "\u001b[2m\u001b[36m(Impala pid=11780)\u001b[0m       \"seed\": 1,\n",
      "\u001b[2m\u001b[36m(Impala pid=11780)\u001b[0m       \"1D\": false,\n",
      "\u001b[2m\u001b[36m(Impala pid=11780)\u001b[0m       \"nr_of_images\": 16,\n",
      "\u001b[2m\u001b[36m(Impala pid=11780)\u001b[0m       \"noise_on_images_on_read\": 0,\n",
      "\u001b[2m\u001b[36m(Impala pid=11780)\u001b[0m       \"small_rotation_on_read\": 1\n",
      "\u001b[2m\u001b[36m(Impala pid=11780)\u001b[0m    }\n",
      "\u001b[2m\u001b[36m(Impala pid=11780)\u001b[0m }\n",
      "\u001b[2m\u001b[36m(Impala pid=11780)\u001b[0m ---------------------------------------------------\n",
      "\u001b[2m\u001b[36m(Impala pid=11780)\u001b[0m              The CT-graph environments             \n",
      "\u001b[2m\u001b[36m(Impala pid=11780)\u001b[0m ---------------------------------------------------\n",
      "\u001b[2m\u001b[36m(Impala pid=11780)\u001b[0m ---------------------------------------------------\n",
      "\u001b[2m\u001b[36m(Impala pid=11780)\u001b[0m This instance of CT-graph has\n",
      "\u001b[2m\u001b[36m(Impala pid=11780)\u001b[0m - 2 sequential decision state(s)\n",
      "\u001b[2m\u001b[36m(Impala pid=11780)\u001b[0m - 3 sequential wait states\n",
      "\u001b[2m\u001b[36m(Impala pid=11780)\u001b[0m - 4 leaf nodes (ends)\n",
      "\u001b[2m\u001b[36m(Impala pid=11780)\u001b[0m - 16 total states\n",
      "\u001b[2m\u001b[36m(Impala pid=11780)\u001b[0m - 7 total wait states\n",
      "\u001b[2m\u001b[36m(Impala pid=11780)\u001b[0m - 3 total decision points\n",
      "\u001b[2m\u001b[36m(Impala pid=11780)\u001b[0m ---------------------------------------------------\n"
     ]
    },
    {
     "data": {
      "text/html": [
       "<div class=\"trialProgress\">\n",
       "  <h3>Trial Progress</h3>\n",
       "  <table>\n",
       "<thead>\n",
       "<tr><th>Trial name                                     </th><th style=\"text-align: right;\">  agent_timesteps_total</th><th>connector_metrics                                                                                                                                            </th><th>counters                                                                                                                                                                                                                                                                             </th><th>custom_metrics  </th><th>date               </th><th>done  </th><th style=\"text-align: right;\">  episode_len_mean</th><th>episode_media  </th><th style=\"text-align: right;\">  episode_reward_max</th><th style=\"text-align: right;\">  episode_reward_mean</th><th style=\"text-align: right;\">  episode_reward_min</th><th style=\"text-align: right;\">  episodes_this_iter</th><th style=\"text-align: right;\">  episodes_total</th><th>evaluation                                                                                                                                                                                                                                                                                                                                                                                                                                                                                                                                                                                                                                                                                                                                                                                                                                                                                                                                                </th><th>experiment_id                   </th><th>hostname  </th><th>info                                                                                                                                                                                                                                                                                                                                                                                                                                                                                                                                                                                                                                                                                                                                                                                                                                                                                                                                                                                                                                                                                                          </th><th style=\"text-align: right;\">  iterations_since_restore</th><th>node_ip  </th><th style=\"text-align: right;\">  num_agent_steps_sampled</th><th style=\"text-align: right;\">  num_agent_steps_trained</th><th style=\"text-align: right;\">  num_env_steps_sampled</th><th style=\"text-align: right;\">  num_env_steps_sampled_this_iter</th><th style=\"text-align: right;\">  num_env_steps_trained</th><th style=\"text-align: right;\">  num_env_steps_trained_this_iter</th><th style=\"text-align: right;\">  num_faulty_episodes</th><th style=\"text-align: right;\">  num_healthy_workers</th><th style=\"text-align: right;\">  num_in_flight_async_reqs</th><th style=\"text-align: right;\">  num_remote_worker_restarts</th><th style=\"text-align: right;\">  num_steps_trained_this_iter</th><th>perf                                                                           </th><th style=\"text-align: right;\">  pid</th><th>policy_reward_max  </th><th>policy_reward_mean  </th><th>policy_reward_min  </th><th>sampler_perf                                                                                                                                                                                                     </th><th>sampler_results                                                                                                                                                                                                                                                                                                                                                                                                                                                                                                                                                                                                                                                                                                                                                                                                                                                                                                                                                                                                                                                                                                                                                                                                                                                                                                                                                                                                                                                                                                                                                                                                                                                                                                                                                                                                                                                                                                                                                                                                                                                                                                                                                                                                                                                                                                                                                                                                                                                                                                                                                                                                                                                                                                                                                                                                                                                                                                                                                                                                                                                                                                                                                                                                                                                                                                                                                                                                                                                                                                                                                                                                                                                                                                                                                                                                                                                                                                                                                                                                                                                                                                                                                                                                                                                                                                                                                                                                                                                                                                                                                                                                                                                                                                                                                                                                                                                                                                                                                                                                                                                                                                                                                                                                                                                                                                                                                                                                                                                                                                                                                                                                                                                                                                                                                                                                                                                                                                                                                                                                                                                                                                                                                                                                                                                                                                                                                                                                                                                                                                                                                                                                                                                                                                                                                                                                                                                                                                                                                                                                                                                                                                                                                                                                                                                                                                                                                                                                                                                                                                                                                                                                                                                                                                                                                                                                                                                                                                          </th><th style=\"text-align: right;\">  time_since_restore</th><th style=\"text-align: right;\">  time_this_iter_s</th><th style=\"text-align: right;\">  time_total_s</th><th>timers                                                           </th><th style=\"text-align: right;\">  timestamp</th><th style=\"text-align: right;\">  timesteps_since_restore</th><th style=\"text-align: right;\">  timesteps_total</th><th style=\"text-align: right;\">  training_iteration</th><th>trial_id   </th><th style=\"text-align: right;\">  warmup_time</th></tr>\n",
       "</thead>\n",
       "<tbody>\n",
       "<tr><td>IMPALA_CT-Graph_d2_b2_wp05_crv0_MDP_9891f_00000</td><td style=\"text-align: right;\">                1501750</td><td>{&#x27;ObsPreprocessorConnector_ms&#x27;: 0.00472166523429918, &#x27;StateBufferConnector_ms&#x27;: 0.004597272932159235, &#x27;ViewRequirementAgentConnector_ms&#x27;: 0.0719414882778381}</td><td>{&#x27;num_env_steps_sampled&#x27;: 1501750, &#x27;num_env_steps_trained&#x27;: 11851400, &#x27;num_agent_steps_sampled&#x27;: 1501750, &#x27;num_agent_steps_trained&#x27;: 11851400, &#x27;num_training_step_calls_since_last_synch_worker_weights&#x27;: 122, &#x27;num_weight_broadcasts&#x27;: 24261, &#x27;num_samples_added_to_queue&#x27;: 1501500}</td><td>{}              </td><td>2023-03-01_18-03-40</td><td>True  </td><td style=\"text-align: right;\">           9.93913</td><td>{}             </td><td style=\"text-align: right;\">                   1</td><td style=\"text-align: right;\">              0.50559</td><td style=\"text-align: right;\">                   0</td><td style=\"text-align: right;\">                 805</td><td style=\"text-align: right;\">          175879</td><td>{&#x27;episode_reward_max&#x27;: 1.0, &#x27;episode_reward_min&#x27;: 1.0, &#x27;episode_reward_mean&#x27;: 1.0, &#x27;episode_len_mean&#x27;: 9.0, &#x27;episode_media&#x27;: {}, &#x27;episodes_this_iter&#x27;: 2, &#x27;policy_reward_min&#x27;: {}, &#x27;policy_reward_max&#x27;: {}, &#x27;policy_reward_mean&#x27;: {}, &#x27;custom_metrics&#x27;: {}, &#x27;hist_stats&#x27;: {&#x27;episode_reward&#x27;: [1.0, 1.0], &#x27;episode_lengths&#x27;: [7, 11]}, &#x27;sampler_perf&#x27;: {&#x27;mean_raw_obs_processing_ms&#x27;: 0.30212034211085625, &#x27;mean_inference_ms&#x27;: 0.9211841917422211, &#x27;mean_action_processing_ms&#x27;: 0.0863212841282828, &#x27;mean_env_wait_ms&#x27;: 0.2802843114199935, &#x27;mean_env_render_ms&#x27;: 0.0}, &#x27;num_faulty_episodes&#x27;: 0, &#x27;connector_metrics&#x27;: {&#x27;ObsPreprocessorConnector_ms&#x27;: 0.0, &#x27;StateBufferConnector_ms&#x27;: 0.0, &#x27;ViewRequirementAgentConnector_ms&#x27;: 0.20003318786621094}, &#x27;num_agent_steps_sampled_this_iter&#x27;: 18, &#x27;num_env_steps_sampled_this_iter&#x27;: 18, &#x27;timesteps_this_iter&#x27;: 18, &#x27;num_healthy_workers&#x27;: 0, &#x27;num_in_flight_async_reqs&#x27;: 0, &#x27;num_remote_worker_restarts&#x27;: 0}</td><td>546e252496dd4e22a3db63a7e6907c4a</td><td>KAREN     </td><td>{&#x27;learner&#x27;: {&#x27;default_policy&#x27;: {&#x27;learner_stats&#x27;: {&#x27;allreduce_latency&#x27;: 0.0, &#x27;grad_gnorm&#x27;: 5.0, &#x27;cur_lr&#x27;: 0.00015, &#x27;total_loss&#x27;: 26.37798309326172, &#x27;policy_loss&#x27;: 0.003018690273165703, &#x27;entropy&#x27;: 0.9117299914360046, &#x27;entropy_coeff&#x27;: 0.00015, &#x27;var_gnorm&#x27;: 33.485084533691406, &#x27;vf_loss&#x27;: 53.567474365234375, &#x27;vf_explained_var&#x27;: 0.43436354398727417}, &#x27;model&#x27;: {}, &#x27;custom_metrics&#x27;: {}, &#x27;num_agent_steps_trained&#x27;: 512.0, &#x27;num_grad_updates_lifetime&#x27;: 21548.0, &#x27;diff_num_grad_updates_vs_sampler_policy&#x27;: 272.63636363636397}}, &#x27;num_env_steps_sampled&#x27;: 1501750, &#x27;num_env_steps_trained&#x27;: 11851400, &#x27;num_agent_steps_sampled&#x27;: 1501750, &#x27;num_agent_steps_trained&#x27;: 11851400, &#x27;num_training_step_calls_since_last_synch_worker_weights&#x27;: 122, &#x27;num_weight_broadcasts&#x27;: 24261, &#x27;num_samples_added_to_queue&#x27;: 1501500, &#x27;learner_queue&#x27;: {&#x27;size_count&#x27;: 21550, &#x27;size_mean&#x27;: 16.0, &#x27;size_std&#x27;: 0.0, &#x27;size_quantiles&#x27;: [16.0, 16.0, 16.0, 16.0, 16.0]}, &#x27;timing_breakdown&#x27;: {&#x27;learner_grad_time_ms&#x27;: 91.721, &#x27;learner_load_time_ms&#x27;: 0.3, &#x27;learner_load_wait_time_ms&#x27;: 0.0, &#x27;learner_dequeue_time_ms&#x27;: 0.0}}</td><td style=\"text-align: right;\">                       208</td><td>127.0.0.1</td><td style=\"text-align: right;\">                  1501750</td><td style=\"text-align: right;\">                 11851400</td><td style=\"text-align: right;\">                1501750</td><td style=\"text-align: right;\">                             7950</td><td style=\"text-align: right;\">               11851400</td><td style=\"text-align: right;\">                            61600</td><td style=\"text-align: right;\">                    0</td><td style=\"text-align: right;\">                    2</td><td style=\"text-align: right;\">                         4</td><td style=\"text-align: right;\">                           0</td><td style=\"text-align: right;\">                        61600</td><td>{&#x27;cpu_util_percent&#x27;: 9.014285714285716, &#x27;ram_util_percent&#x27;: 19.564285714285713}</td><td style=\"text-align: right;\">11780</td><td>{}                 </td><td>{}                  </td><td>{}                 </td><td>{&#x27;mean_raw_obs_processing_ms&#x27;: 0.32362665735465784, &#x27;mean_inference_ms&#x27;: 0.7897858831873157, &#x27;mean_action_processing_ms&#x27;: 0.0804760255181467, &#x27;mean_env_wait_ms&#x27;: 0.26459969266801364, &#x27;mean_env_render_ms&#x27;: 0.0}</td><td>{&#x27;episode_reward_max&#x27;: 1.0, &#x27;episode_reward_min&#x27;: 0.0, &#x27;episode_reward_mean&#x27;: 0.5055900621118012, &#x27;episode_len_mean&#x27;: 9.939130434782609, &#x27;episode_media&#x27;: {}, &#x27;episodes_this_iter&#x27;: 805, &#x27;policy_reward_min&#x27;: {}, &#x27;policy_reward_max&#x27;: {}, &#x27;policy_reward_mean&#x27;: {}, &#x27;custom_metrics&#x27;: {}, &#x27;hist_stats&#x27;: {&#x27;episode_reward&#x27;: [1.0, 1.0, 1.0, 1.0, 1.0, 1.0, 1.0, 1.0, 1.0, 1.0, 1.0, 1.0, 1.0, 1.0, 1.0, 1.0, 1.0, 1.0, 1.0, 1.0, 1.0, 1.0, 1.0, 1.0, 1.0, 1.0, 1.0, 1.0, 1.0, 1.0, 1.0, 1.0, 1.0, 1.0, 1.0, 1.0, 1.0, 1.0, 1.0, 1.0, 1.0, 1.0, 1.0, 1.0, 1.0, 1.0, 1.0, 1.0, 1.0, 1.0, 1.0, 1.0, 1.0, 1.0, 1.0, 1.0, 1.0, 1.0, 1.0, 1.0, 1.0, 1.0, 1.0, 1.0, 1.0, 1.0, 1.0, 1.0, 1.0, 1.0, 1.0, 1.0, 1.0, 1.0, 1.0, 1.0, 1.0, 1.0, 1.0, 1.0, 1.0, 1.0, 1.0, 1.0, 1.0, 1.0, 1.0, 1.0, 1.0, 1.0, 1.0, 1.0, 1.0, 1.0, 1.0, 1.0, 1.0, 1.0, 1.0, 1.0, 1.0, 1.0, 1.0, 1.0, 1.0, 1.0, 1.0, 1.0, 1.0, 1.0, 1.0, 1.0, 1.0, 1.0, 1.0, 1.0, 1.0, 1.0, 1.0, 1.0, 1.0, 1.0, 1.0, 1.0, 1.0, 1.0, 1.0, 1.0, 1.0, 1.0, 1.0, 1.0, 1.0, 1.0, 1.0, 1.0, 1.0, 1.0, 1.0, 1.0, 1.0, 1.0, 1.0, 1.0, 1.0, 1.0, 1.0, 1.0, 1.0, 1.0, 1.0, 1.0, 1.0, 1.0, 1.0, 1.0, 1.0, 1.0, 1.0, 1.0, 1.0, 1.0, 1.0, 1.0, 1.0, 1.0, 1.0, 1.0, 1.0, 1.0, 1.0, 1.0, 1.0, 1.0, 1.0, 1.0, 1.0, 1.0, 1.0, 1.0, 1.0, 1.0, 1.0, 1.0, 1.0, 1.0, 1.0, 1.0, 1.0, 1.0, 1.0, 1.0, 1.0, 1.0, 1.0, 1.0, 1.0, 1.0, 1.0, 1.0, 1.0, 1.0, 1.0, 1.0, 1.0, 1.0, 1.0, 1.0, 1.0, 1.0, 1.0, 1.0, 1.0, 1.0, 1.0, 1.0, 1.0, 1.0, 1.0, 1.0, 1.0, 1.0, 1.0, 1.0, 1.0, 1.0, 1.0, 1.0, 1.0, 1.0, 1.0, 1.0, 1.0, 1.0, 1.0, 1.0, 1.0, 1.0, 1.0, 1.0, 1.0, 1.0, 1.0, 1.0, 1.0, 1.0, 1.0, 1.0, 1.0, 1.0, 1.0, 1.0, 1.0, 1.0, 1.0, 1.0, 1.0, 1.0, 1.0, 1.0, 1.0, 1.0, 1.0, 1.0, 1.0, 1.0, 1.0, 1.0, 1.0, 1.0, 1.0, 1.0, 1.0, 1.0, 1.0, 1.0, 1.0, 1.0, 1.0, 1.0, 1.0, 1.0, 1.0, 1.0, 1.0, 1.0, 1.0, 1.0, 1.0, 1.0, 1.0, 1.0, 1.0, 1.0, 1.0, 1.0, 1.0, 1.0, 1.0, 1.0, 1.0, 1.0, 1.0, 1.0, 1.0, 1.0, 1.0, 1.0, 1.0, 1.0, 1.0, 1.0, 1.0, 1.0, 1.0, 1.0, 1.0, 1.0, 1.0, 1.0, 1.0, 1.0, 1.0, 1.0, 1.0, 1.0, 1.0, 1.0, 1.0, 1.0, 1.0, 1.0, 1.0, 1.0, 1.0, 1.0, 1.0, 1.0, 1.0, 1.0, 1.0, 1.0, 1.0, 1.0, 1.0, 1.0, 1.0, 1.0, 1.0, 1.0, 1.0, 1.0, 1.0, 1.0, 1.0, 1.0, 1.0, 1.0, 1.0, 1.0, 1.0, 1.0, 1.0, 1.0, 1.0, 1.0, 1.0, 1.0, 1.0, 1.0, 1.0, 1.0, 1.0, 1.0, 1.0, 1.0, 1.0, 1.0, 1.0, 1.0, 1.0, 1.0, 1.0, 1.0, 1.0, 1.0, 1.0, 1.0, 1.0, 1.0, 1.0, 1.0, 1.0, 1.0, 1.0, 1.0, 1.0, 1.0, 1.0, 1.0, 1.0, 1.0, 1.0, 1.0, 1.0, 1.0, 1.0, 0.0, 0.0, 0.0, 0.0, 0.0, 0.0, 0.0, 0.0, 0.0, 0.0, 0.0, 0.0, 0.0, 0.0, 0.0, 0.0, 0.0, 0.0, 0.0, 0.0, 0.0, 0.0, 0.0, 0.0, 0.0, 0.0, 0.0, 0.0, 0.0, 0.0, 0.0, 0.0, 0.0, 0.0, 0.0, 0.0, 0.0, 0.0, 0.0, 0.0, 0.0, 0.0, 0.0, 0.0, 0.0, 0.0, 0.0, 0.0, 0.0, 0.0, 0.0, 0.0, 0.0, 0.0, 0.0, 0.0, 0.0, 0.0, 0.0, 0.0, 0.0, 0.0, 0.0, 0.0, 0.0, 0.0, 0.0, 0.0, 0.0, 0.0, 0.0, 0.0, 0.0, 0.0, 0.0, 0.0, 0.0, 0.0, 0.0, 0.0, 0.0, 0.0, 0.0, 0.0, 0.0, 0.0, 0.0, 0.0, 0.0, 0.0, 0.0, 0.0, 0.0, 0.0, 0.0, 0.0, 0.0, 0.0, 0.0, 0.0, 0.0, 0.0, 0.0, 0.0, 0.0, 0.0, 0.0, 0.0, 0.0, 0.0, 0.0, 0.0, 0.0, 0.0, 0.0, 0.0, 0.0, 0.0, 0.0, 0.0, 0.0, 0.0, 0.0, 0.0, 0.0, 0.0, 0.0, 0.0, 0.0, 0.0, 0.0, 0.0, 0.0, 0.0, 0.0, 0.0, 0.0, 0.0, 0.0, 0.0, 0.0, 0.0, 0.0, 0.0, 0.0, 0.0, 0.0, 0.0, 0.0, 0.0, 0.0, 0.0, 0.0, 0.0, 0.0, 0.0, 0.0, 0.0, 0.0, 0.0, 0.0, 0.0, 0.0, 0.0, 0.0, 0.0, 0.0, 0.0, 0.0, 0.0, 0.0, 0.0, 0.0, 0.0, 0.0, 0.0, 0.0, 0.0, 0.0, 0.0, 0.0, 0.0, 0.0, 0.0, 0.0, 0.0, 0.0, 0.0, 0.0, 0.0, 0.0, 0.0, 0.0, 0.0, 0.0, 0.0, 0.0, 0.0, 0.0, 0.0, 0.0, 0.0, 0.0, 0.0, 0.0, 0.0, 0.0, 0.0, 0.0, 0.0, 0.0, 0.0, 0.0, 0.0, 0.0, 0.0, 0.0, 0.0, 0.0, 0.0, 0.0, 0.0, 0.0, 0.0, 0.0, 0.0, 0.0, 0.0, 0.0, 0.0, 0.0, 0.0, 0.0, 0.0, 0.0, 0.0, 0.0, 0.0, 0.0, 0.0, 0.0, 0.0, 0.0, 0.0, 0.0, 0.0, 0.0, 0.0, 0.0, 0.0, 0.0, 0.0, 0.0, 0.0, 0.0, 0.0, 0.0, 0.0, 0.0, 0.0, 0.0, 0.0, 0.0, 0.0, 0.0, 0.0, 0.0, 0.0, 0.0, 0.0, 0.0, 0.0, 0.0, 0.0, 0.0, 0.0, 0.0, 0.0, 0.0, 0.0, 0.0, 0.0, 0.0, 0.0, 0.0, 0.0, 0.0, 0.0, 0.0, 0.0, 0.0, 0.0, 0.0, 0.0, 0.0, 0.0, 0.0, 0.0, 0.0, 0.0, 0.0, 0.0, 0.0, 0.0, 0.0, 0.0, 0.0, 0.0, 0.0, 0.0, 0.0, 0.0, 0.0, 0.0, 0.0, 0.0, 0.0, 0.0, 0.0, 0.0, 0.0, 0.0, 0.0, 0.0, 0.0, 0.0, 0.0, 0.0, 0.0, 0.0, 0.0, 0.0, 0.0, 0.0, 0.0, 0.0, 0.0, 0.0, 0.0, 0.0, 0.0, 0.0, 0.0, 0.0, 0.0, 0.0, 0.0, 0.0, 0.0, 0.0, 0.0, 0.0, 0.0, 0.0, 0.0, 0.0, 0.0, 0.0, 0.0, 0.0, 0.0, 0.0, 0.0, 0.0, 0.0, 0.0, 0.0, 0.0, 0.0, 0.0, 0.0, 0.0, 0.0, 0.0, 0.0, 0.0, 0.0, 0.0, 0.0, 0.0, 0.0, 0.0, 0.0, 0.0, 0.0, 0.0, 0.0, 0.0, 0.0, 0.0, 0.0, 0.0, 0.0, 0.0, 0.0, 0.0, 0.0, 0.0], &#x27;episode_lengths&#x27;: [13, 7, 11, 18, 11, 11, 10, 7, 12, 8, 10, 11, 9, 7, 9, 8, 10, 10, 9, 9, 9, 9, 8, 9, 9, 10, 12, 9, 13, 7, 11, 10, 8, 9, 8, 9, 15, 10, 10, 9, 9, 8, 15, 7, 12, 13, 12, 10, 11, 9, 11, 14, 9, 8, 8, 10, 10, 8, 7, 7, 8, 14, 18, 12, 11, 13, 8, 8, 7, 14, 9, 11, 10, 7, 8, 8, 9, 8, 10, 16, 11, 10, 15, 7, 8, 7, 10, 7, 13, 7, 15, 7, 9, 8, 13, 10, 9, 12, 7, 10, 7, 9, 13, 9, 11, 9, 12, 11, 14, 8, 10, 11, 14, 16, 8, 12, 8, 10, 7, 12, 8, 7, 8, 11, 10, 9, 13, 9, 11, 9, 14, 10, 9, 8, 13, 8, 14, 9, 8, 8, 12, 8, 11, 9, 13, 11, 8, 10, 10, 12, 8, 8, 10, 15, 9, 10, 15, 10, 9, 7, 8, 9, 8, 12, 10, 9, 8, 10, 9, 7, 8, 7, 11, 7, 8, 9, 7, 9, 9, 9, 7, 9, 7, 13, 12, 14, 12, 7, 9, 12, 7, 8, 8, 11, 15, 8, 9, 10, 10, 11, 7, 10, 9, 9, 8, 10, 10, 14, 9, 10, 7, 9, 12, 10, 9, 10, 9, 9, 11, 11, 10, 8, 7, 9, 8, 12, 17, 9, 10, 13, 11, 7, 10, 9, 13, 14, 8, 12, 7, 7, 12, 7, 13, 12, 12, 7, 14, 7, 9, 12, 9, 12, 11, 8, 11, 9, 8, 8, 11, 9, 12, 13, 7, 10, 10, 11, 15, 7, 13, 7, 11, 9, 8, 11, 11, 7, 10, 14, 11, 12, 11, 9, 11, 9, 7, 9, 8, 11, 11, 10, 12, 8, 9, 10, 11, 11, 7, 12, 13, 8, 10, 9, 9, 13, 8, 14, 7, 7, 8, 14, 11, 9, 9, 8, 12, 7, 10, 10, 14, 10, 7, 11, 9, 9, 11, 8, 8, 8, 7, 10, 9, 14, 9, 12, 8, 10, 7, 11, 14, 8, 11, 7, 9, 7, 10, 7, 12, 9, 9, 10, 7, 11, 9, 9, 7, 8, 11, 7, 10, 13, 8, 8, 9, 10, 12, 8, 9, 9, 8, 8, 11, 16, 10, 8, 10, 9, 7, 7, 7, 10, 10, 9, 10, 9, 9, 8, 9, 11, 12, 12, 9, 7, 10, 8, 7, 7, 10, 9, 13, 8, 9, 9, 18, 11, 14, 7, 8, 13, 14, 10, 9, 8, 7, 9, 9, 21, 11, 10, 12, 8, 15, 11, 9, 13, 9, 10, 10, 8, 11, 12, 10, 9, 7, 8, 8, 14, 8, 13, 7, 11, 11, 15, 10, 12, 9, 11, 11, 9, 10, 9, 9, 15, 8, 12, 9, 13, 12, 9, 12, 7, 12, 8, 8, 8, 10, 16, 8, 16, 10, 9, 11, 14, 7, 11, 7, 11, 10, 10, 10, 13, 10, 8, 13, 9, 12, 7, 11, 15, 8, 7, 9, 7, 11, 11, 8, 10, 10, 8, 8, 10, 13, 11, 8, 9, 12, 11, 7, 9, 11, 8, 10, 11, 11, 8, 10, 11, 15, 11, 9, 14, 7, 13, 8, 9, 13, 12, 12, 8, 11, 10, 13, 8, 8, 8, 10, 7, 13, 7, 10, 7, 9, 11, 11, 9, 13, 7, 9, 9, 11, 10, 11, 10, 12, 10, 10, 10, 8, 15, 14, 7, 9, 7, 11, 9, 10, 9, 10, 12, 7, 9, 13, 7, 10, 9, 16, 9, 9, 11, 7, 8, 9, 11, 8, 7, 14, 10, 7, 9, 10, 14, 10, 8, 12, 11, 8, 12, 7, 7, 8, 9, 9, 17, 11, 12, 13, 10, 10, 11, 7, 15, 10, 16, 8, 10, 13, 7, 14, 7, 8, 7, 9, 10, 11, 9, 8, 13, 12, 15, 9, 10, 9, 9, 8, 13, 8, 11, 11, 9, 8, 8, 9, 13, 9, 8, 9, 8, 10, 9, 10, 9, 9, 14, 8, 10, 7, 9, 11, 10, 15, 7, 7, 14, 8, 13, 13, 9, 12, 10, 10, 8, 9, 8, 9, 10, 7, 7, 8, 8, 8, 7, 15, 7, 11, 7, 13, 11, 15, 12, 7, 10, 15, 11, 9, 7, 7, 9, 11, 8, 9, 7, 8, 12, 10, 15, 9, 11, 8, 11, 13, 8, 8, 8, 8, 10, 14, 8, 7, 10, 8, 7, 13, 8, 8, 17, 8, 11, 11, 15, 8, 9, 7, 8, 8, 8, 9, 12, 10, 14, 8, 8, 7, 14, 17, 9, 17, 9, 11, 7, 10, 11, 9, 9, 8, 18, 8, 11, 8, 12, 10, 10, 8, 9, 8, 13, 7, 7, 16, 10, 10, 11, 9, 9, 12, 13, 10, 7, 8, 11, 9, 13, 10, 12, 7, 10, 13, 7, 17, 8, 9, 9, 10, 9, 11, 13, 7, 7, 9, 10, 9, 8, 15, 10, 9, 8, 10]}, &#x27;sampler_perf&#x27;: {&#x27;mean_raw_obs_processing_ms&#x27;: 0.32362665735465784, &#x27;mean_inference_ms&#x27;: 0.7897858831873157, &#x27;mean_action_processing_ms&#x27;: 0.0804760255181467, &#x27;mean_env_wait_ms&#x27;: 0.26459969266801364, &#x27;mean_env_render_ms&#x27;: 0.0}, &#x27;num_faulty_episodes&#x27;: 0, &#x27;connector_metrics&#x27;: {&#x27;ObsPreprocessorConnector_ms&#x27;: 0.00472166523429918, &#x27;StateBufferConnector_ms&#x27;: 0.004597272932159235, &#x27;ViewRequirementAgentConnector_ms&#x27;: 0.0719414882778381}}</td><td style=\"text-align: right;\">             2128.64</td><td style=\"text-align: right;\">           10.1463</td><td style=\"text-align: right;\">       2128.64</td><td>{&#x27;training_iteration_time_ms&#x27;: 0.1, &#x27;synch_weights_time_ms&#x27;: 0.1}</td><td style=\"text-align: right;\"> 1677686620</td><td style=\"text-align: right;\">                        0</td><td style=\"text-align: right;\">          1501750</td><td style=\"text-align: right;\">                 208</td><td>9891f_00000</td><td style=\"text-align: right;\">      7.47846</td></tr>\n",
       "</tbody>\n",
       "</table>\n",
       "</div>\n",
       "<style>\n",
       ".trialProgress {\n",
       "  display: flex;\n",
       "  flex-direction: column;\n",
       "  color: var(--jp-ui-font-color1);\n",
       "}\n",
       ".trialProgress h3 {\n",
       "  font-weight: bold;\n",
       "}\n",
       ".trialProgress td {\n",
       "  white-space: nowrap;\n",
       "}\n",
       "</style>\n"
      ],
      "text/plain": [
       "<IPython.core.display.HTML object>"
      ]
     },
     "metadata": {},
     "output_type": "display_data"
    },
    {
     "name": "stderr",
     "output_type": "stream",
     "text": [
      "2023-03-01 18:03:41,296\tINFO tune.py:798 -- Total run time: 2164.27 seconds (2163.94 seconds for the tuning loop).\n"
     ]
    },
    {
     "data": {
      "text/plain": [
       "<ray.tune.analysis.experiment_analysis.ExperimentAnalysis at 0x1f9149ffcd0>"
      ]
     },
     "execution_count": 9,
     "metadata": {},
     "output_type": "execute_result"
    }
   ],
   "source": [
    "tune.run(\"IMPALA\",\n",
    "             # algorithm specific configuration\n",
    "             config={\"env\": \"CT-Graph_d2_b2_wp05_crv0_MDP\",  #\n",
    "                     \"framework\": \"torch\",\n",
    "                     \"seed\":958,\n",
    "                     \"num_gpus\": 0,\n",
    "                     \"num_rollout_workers\": 2,\n",
    "                     \"num_envs_per_worker\": 1,\n",
    "                     #\"num_gpus_per_worker\": 0,\n",
    "                     \"train_batch_size\": 512,\n",
    "                     #\"use_critic\":True,\n",
    "                     #\"use_gae\": True,\n",
    "                     #\"lambda\": 0.99,\n",
    "                     #\"sgd_minibatch_size\": 16,\n",
    "                     \"num_sgd_iter\": 8,\n",
    "                     \"shuffle_sequences\": False,\n",
    "                     \"entropy_coeff\": 0.00015,\n",
    "                     #\"clip_param\": 0.1,\n",
    "                     \"grad_clip\": 5,\n",
    "                     \"lr\": 0.00015,\n",
    "                     #\"num_cpus_per_worker\": 1,\n",
    "                     #\"model\": {\"custom_model\": \"pa_model\", },\n",
    "                     \"evaluation_interval\": 1,\n",
    "                     \"evaluation_num_episodes\": 2\n",
    "                     },\n",
    "             local_dir=\"CT-Graph_d2_b2_wp05_crv0_MDP06\",  # directory to save results\n",
    "             checkpoint_freq=2,  # frequency between checkpoints\n",
    "             keep_checkpoints_num=6,\n",
    "             stop={\"timesteps_total\": 1500000}\n",
    "             )\n"
   ]
  },
  {
   "cell_type": "code",
   "execution_count": null,
   "id": "64bee6a0-fbb5-4ff4-a955-c31597ed6ba9",
   "metadata": {},
   "outputs": [],
   "source": []
  },
  {
   "cell_type": "code",
   "execution_count": null,
   "id": "df30d831-431f-4987-8eb0-56015395793a",
   "metadata": {},
   "outputs": [],
   "source": []
  }
 ],
 "metadata": {
  "kernelspec": {
   "display_name": "Python 3 (ipykernel)",
   "language": "python",
   "name": "python3"
  },
  "language_info": {
   "codemirror_mode": {
    "name": "ipython",
    "version": 3
   },
   "file_extension": ".py",
   "mimetype": "text/x-python",
   "name": "python",
   "nbconvert_exporter": "python",
   "pygments_lexer": "ipython3",
   "version": "3.9.16"
  }
 },
 "nbformat": 4,
 "nbformat_minor": 5
}
